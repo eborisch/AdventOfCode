{
 "cells": [
  {
   "cell_type": "code",
   "execution_count": 38,
   "id": "b5e3cb3d",
   "metadata": {},
   "outputs": [],
   "source": [
    "import re\n",
    "import numpy as np\n",
    "import scipy.ndimage as ndi\n"
   ]
  },
  {
   "cell_type": "code",
   "execution_count": 46,
   "id": "31056155",
   "metadata": {},
   "outputs": [],
   "source": [
    "dat = open('input').readlines()\n",
    "\n",
    "locs = []\n",
    "\n",
    "for l in dat:\n",
    "    loc = re.findall('\\d+', l)\n",
    "    locs.append(list(map(int, loc)))\n",
    "locs = np.array(locs, dtype=int)\n",
    "\n",
    "arr = np.zeros(np.max(locs, 0) + np.array((4,4,4)), dtype=int)\n",
    "\n",
    "for l in locs:\n",
    "    arr[tuple([n + 1 for n in l])] = 1"
   ]
  },
  {
   "cell_type": "code",
   "execution_count": 47,
   "id": "54ee2573",
   "metadata": {},
   "outputs": [
    {
     "data": {
      "text/plain": [
       "3364"
      ]
     },
     "execution_count": 47,
     "metadata": {},
     "output_type": "execute_result"
    }
   ],
   "source": [
    "np.sum(np.abs(np.diff(arr, axis=0))) + np.sum(np.abs(np.diff(arr, axis=1))) + np.sum(np.abs(np.diff(arr, axis=2)))"
   ]
  },
  {
   "cell_type": "code",
   "execution_count": 52,
   "id": "ba28a1a5",
   "metadata": {},
   "outputs": [
    {
     "data": {
      "text/plain": [
       "2006"
      ]
     },
     "execution_count": 52,
     "metadata": {},
     "output_type": "execute_result"
    }
   ],
   "source": [
    "arr = ndi.binary_fill_holes(arr)\n",
    "np.sum(np.abs(np.diff(arr, axis=0))) + np.sum(np.abs(np.diff(arr, axis=1))) + np.sum(np.abs(np.diff(arr, axis=2)))"
   ]
  },
  {
   "cell_type": "code",
   "execution_count": null,
   "id": "c33847e7",
   "metadata": {},
   "outputs": [],
   "source": []
  }
 ],
 "metadata": {
  "kernelspec": {
   "display_name": "Python 3 (ipykernel)",
   "language": "python",
   "name": "python3"
  },
  "language_info": {
   "codemirror_mode": {
    "name": "ipython",
    "version": 3
   },
   "file_extension": ".py",
   "mimetype": "text/x-python",
   "name": "python",
   "nbconvert_exporter": "python",
   "pygments_lexer": "ipython3",
   "version": "3.10.9"
  }
 },
 "nbformat": 4,
 "nbformat_minor": 5
}
